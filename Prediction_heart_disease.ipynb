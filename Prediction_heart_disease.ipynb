{
  "nbformat": 4,
  "nbformat_minor": 0,
  "metadata": {
    "colab": {
      "name": "Prediction_heart_disease.ipynb",
      "provenance": [],
      "collapsed_sections": [],
      "toc_visible": true,
      "authorship_tag": "ABX9TyOEp1dvu1tG/1zUIFgfrsqz",
      "include_colab_link": true
    },
    "kernelspec": {
      "name": "python3",
      "display_name": "Python 3"
    }
  },
  "cells": [
    {
      "cell_type": "markdown",
      "metadata": {
        "id": "view-in-github",
        "colab_type": "text"
      },
      "source": [
        "<a href=\"https://colab.research.google.com/github/intrusnak3/desafios-machine-learning/blob/master/Prediction_heart_disease.ipynb\" target=\"_parent\"><img src=\"https://colab.research.google.com/assets/colab-badge.svg\" alt=\"Open In Colab\"/></a>"
      ]
    },
    {
      "cell_type": "code",
      "metadata": {
        "id": "x00GKPBJkyGx",
        "colab_type": "code",
        "colab": {}
      },
      "source": [
        "from sklearn import datasets\n",
        "import numpy as np\n",
        "import pandas as pd\n",
        "import seaborn as sns\n",
        "import xgboost as xgb\n",
        "from sklearn.model_selection import train_test_split\n",
        "from sklearn.preprocessing import StandardScaler\n",
        "from sklearn.tree import DecisionTreeClassifier\n",
        "from sklearn.metrics import accuracy_score\n",
        "from sklearn.metrics import classification_report\n",
        "from sklearn.neighbors import KNeighborsClassifier\n",
        "from sklearn.linear_model import LogisticRegression\n",
        "from sklearn.model_selection import GridSearchCV\n",
        "from sklearn.ensemble import RandomForestClassifier\n",
        "from sklearn.naive_bayes import GaussianNB\n",
        "import matplotlib.pyplot as plt\n",
        "import warnings\n",
        "\n",
        "\n",
        "\n"
      ],
      "execution_count": 0,
      "outputs": []
    },
    {
      "cell_type": "markdown",
      "metadata": {
        "id": "zj9ylEdN9pTq",
        "colab_type": "text"
      },
      "source": [
        "# Analize e preparo do Dataset"
      ]
    },
    {
      "cell_type": "code",
      "metadata": {
        "id": "xIo8mziUk04z",
        "colab_type": "code",
        "colab": {}
      },
      "source": [
        "warnings.simplefilter(action='ignore', category=FutureWarning)\n",
        "\n",
        "#carregamento do dataset\n",
        "\n",
        "dataset = pd.read_csv('Mission_Prediction_Dataset.csv')"
      ],
      "execution_count": 0,
      "outputs": []
    },
    {
      "cell_type": "code",
      "metadata": {
        "id": "5RDdtZO8mXTp",
        "colab_type": "code",
        "outputId": "e3c5bed4-12a3-4683-9466-91e041623f2b",
        "colab": {
          "base_uri": "https://localhost:8080/",
          "height": 366
        }
      },
      "source": [
        "#Analize de caracteristicas do dataset\n",
        "dataset.info()"
      ],
      "execution_count": 0,
      "outputs": [
        {
          "output_type": "stream",
          "text": [
            "<class 'pandas.core.frame.DataFrame'>\n",
            "RangeIndex: 303 entries, 0 to 302\n",
            "Data columns (total 14 columns):\n",
            "column1     303 non-null int64\n",
            "column2     303 non-null int64\n",
            "column3     303 non-null int64\n",
            "column4     303 non-null int64\n",
            "column5     303 non-null int64\n",
            "column6     303 non-null int64\n",
            "column7     303 non-null int64\n",
            "column8     303 non-null int64\n",
            "column9     303 non-null int64\n",
            "column10    303 non-null float64\n",
            "column11    303 non-null int64\n",
            "column12    303 non-null int64\n",
            "column13    303 non-null int64\n",
            "column14    303 non-null int64\n",
            "dtypes: float64(1), int64(13)\n",
            "memory usage: 33.3 KB\n"
          ],
          "name": "stdout"
        }
      ]
    },
    {
      "cell_type": "code",
      "metadata": {
        "id": "06xDG6oEnO-C",
        "colab_type": "code",
        "outputId": "236f83d6-3c3b-4ed7-caa8-db3255aefbe5",
        "colab": {
          "base_uri": "https://localhost:8080/",
          "height": 35
        }
      },
      "source": [
        "dataset.shape"
      ],
      "execution_count": 0,
      "outputs": [
        {
          "output_type": "execute_result",
          "data": {
            "text/plain": [
              "(303, 14)"
            ]
          },
          "metadata": {
            "tags": []
          },
          "execution_count": 6
        }
      ]
    },
    {
      "cell_type": "code",
      "metadata": {
        "id": "XtaOIDuWnq6f",
        "colab_type": "code",
        "outputId": "c0d98d68-c507-45be-9969-72969eeb9da5",
        "colab": {
          "base_uri": "https://localhost:8080/",
          "height": 35
        }
      },
      "source": [
        "#verificando se existe algum valor null\n",
        "dataset.isnull().values.any()"
      ],
      "execution_count": 0,
      "outputs": [
        {
          "output_type": "execute_result",
          "data": {
            "text/plain": [
              "False"
            ]
          },
          "metadata": {
            "tags": []
          },
          "execution_count": 7
        }
      ]
    },
    {
      "cell_type": "code",
      "metadata": {
        "id": "Zgo5v_t990zd",
        "colab_type": "code",
        "colab": {}
      },
      "source": [
        "#alteração do nome das colunas para facilitar o entendimento dos features\n",
        "\n",
        "dataset.rename(columns={ dataset.columns[0]: \"idade\", dataset.columns[1]: \"sexo\" , dataset.columns[2]: \"dor-peitoral\", \n",
        "                        dataset.columns[3]: \"psr\", dataset.columns[4]: \"col\" , dataset.columns[5]: \"glicose\",\n",
        "                        dataset.columns[6]: \"ecg\", dataset.columns[7]: \"fcmax\" , dataset.columns[8]: \"angex\",\n",
        "                        dataset.columns[9]: \"oldpeak\", dataset.columns[10]: \"inclinacao\" , dataset.columns[11]: \"ca\", \n",
        "                        dataset.columns[12]: \"thal\", dataset.columns[13]: \"alvo\"}, inplace=True)"
      ],
      "execution_count": 0,
      "outputs": []
    },
    {
      "cell_type": "code",
      "metadata": {
        "id": "HM6kLfbVoXcx",
        "colab_type": "code",
        "outputId": "9576811e-c2b2-42de-c29e-6644c9c69cda",
        "colab": {
          "base_uri": "https://localhost:8080/",
          "height": 72
        }
      },
      "source": [
        "#contagem de valores positivos e negativos na coluna alvo do dataset\n",
        "dataset.alvo.value_counts()"
      ],
      "execution_count": 0,
      "outputs": [
        {
          "output_type": "execute_result",
          "data": {
            "text/plain": [
              "1    165\n",
              "0    138\n",
              "Name: alvo, dtype: int64"
            ]
          },
          "metadata": {
            "tags": []
          },
          "execution_count": 9
        }
      ]
    },
    {
      "cell_type": "code",
      "metadata": {
        "id": "bkmqBXhzpjgZ",
        "colab_type": "code",
        "colab": {}
      },
      "source": [
        "#nesse momento o dataset foi dividido entre x = feats e y = targets\n",
        "x = dataset[['idade','sexo','dor-peitoral','psr','col','glicose','ecg','fcmax','angex','oldpeak','inclinacao','ca','thal',]]\n",
        "y = dataset.alvo"
      ],
      "execution_count": 0,
      "outputs": []
    },
    {
      "cell_type": "code",
      "metadata": {
        "id": "epldWPHAsCNI",
        "colab_type": "code",
        "outputId": "193ea49d-b441-44d4-cefc-c997ed826985",
        "colab": {
          "base_uri": "https://localhost:8080/",
          "height": 206
        }
      },
      "source": [
        "x.head()"
      ],
      "execution_count": 0,
      "outputs": [
        {
          "output_type": "execute_result",
          "data": {
            "text/html": [
              "<div>\n",
              "<style scoped>\n",
              "    .dataframe tbody tr th:only-of-type {\n",
              "        vertical-align: middle;\n",
              "    }\n",
              "\n",
              "    .dataframe tbody tr th {\n",
              "        vertical-align: top;\n",
              "    }\n",
              "\n",
              "    .dataframe thead th {\n",
              "        text-align: right;\n",
              "    }\n",
              "</style>\n",
              "<table border=\"1\" class=\"dataframe\">\n",
              "  <thead>\n",
              "    <tr style=\"text-align: right;\">\n",
              "      <th></th>\n",
              "      <th>idade</th>\n",
              "      <th>sexo</th>\n",
              "      <th>dor-peitoral</th>\n",
              "      <th>psr</th>\n",
              "      <th>col</th>\n",
              "      <th>glicose</th>\n",
              "      <th>ecg</th>\n",
              "      <th>fcmax</th>\n",
              "      <th>angex</th>\n",
              "      <th>oldpeak</th>\n",
              "      <th>inclinacao</th>\n",
              "      <th>ca</th>\n",
              "      <th>thal</th>\n",
              "    </tr>\n",
              "  </thead>\n",
              "  <tbody>\n",
              "    <tr>\n",
              "      <th>0</th>\n",
              "      <td>63</td>\n",
              "      <td>1</td>\n",
              "      <td>3</td>\n",
              "      <td>145</td>\n",
              "      <td>233</td>\n",
              "      <td>1</td>\n",
              "      <td>0</td>\n",
              "      <td>150</td>\n",
              "      <td>0</td>\n",
              "      <td>2.3</td>\n",
              "      <td>0</td>\n",
              "      <td>0</td>\n",
              "      <td>1</td>\n",
              "    </tr>\n",
              "    <tr>\n",
              "      <th>1</th>\n",
              "      <td>37</td>\n",
              "      <td>1</td>\n",
              "      <td>2</td>\n",
              "      <td>130</td>\n",
              "      <td>250</td>\n",
              "      <td>0</td>\n",
              "      <td>1</td>\n",
              "      <td>187</td>\n",
              "      <td>0</td>\n",
              "      <td>3.5</td>\n",
              "      <td>0</td>\n",
              "      <td>0</td>\n",
              "      <td>2</td>\n",
              "    </tr>\n",
              "    <tr>\n",
              "      <th>2</th>\n",
              "      <td>41</td>\n",
              "      <td>0</td>\n",
              "      <td>1</td>\n",
              "      <td>130</td>\n",
              "      <td>204</td>\n",
              "      <td>0</td>\n",
              "      <td>0</td>\n",
              "      <td>172</td>\n",
              "      <td>0</td>\n",
              "      <td>1.4</td>\n",
              "      <td>2</td>\n",
              "      <td>0</td>\n",
              "      <td>2</td>\n",
              "    </tr>\n",
              "    <tr>\n",
              "      <th>3</th>\n",
              "      <td>56</td>\n",
              "      <td>1</td>\n",
              "      <td>1</td>\n",
              "      <td>120</td>\n",
              "      <td>236</td>\n",
              "      <td>0</td>\n",
              "      <td>1</td>\n",
              "      <td>178</td>\n",
              "      <td>0</td>\n",
              "      <td>0.8</td>\n",
              "      <td>2</td>\n",
              "      <td>0</td>\n",
              "      <td>2</td>\n",
              "    </tr>\n",
              "    <tr>\n",
              "      <th>4</th>\n",
              "      <td>57</td>\n",
              "      <td>0</td>\n",
              "      <td>0</td>\n",
              "      <td>120</td>\n",
              "      <td>354</td>\n",
              "      <td>0</td>\n",
              "      <td>1</td>\n",
              "      <td>163</td>\n",
              "      <td>1</td>\n",
              "      <td>0.6</td>\n",
              "      <td>2</td>\n",
              "      <td>0</td>\n",
              "      <td>2</td>\n",
              "    </tr>\n",
              "  </tbody>\n",
              "</table>\n",
              "</div>"
            ],
            "text/plain": [
              "   idade  sexo  dor-peitoral  psr  col  ...  angex  oldpeak  inclinacao  ca  thal\n",
              "0     63     1             3  145  233  ...      0      2.3           0   0     1\n",
              "1     37     1             2  130  250  ...      0      3.5           0   0     2\n",
              "2     41     0             1  130  204  ...      0      1.4           2   0     2\n",
              "3     56     1             1  120  236  ...      0      0.8           2   0     2\n",
              "4     57     0             0  120  354  ...      1      0.6           2   0     2\n",
              "\n",
              "[5 rows x 13 columns]"
            ]
          },
          "metadata": {
            "tags": []
          },
          "execution_count": 11
        }
      ]
    },
    {
      "cell_type": "code",
      "metadata": {
        "id": "tefOgeQsdvFw",
        "colab_type": "code",
        "outputId": "f3f4ecc9-40cd-45e7-fd19-22ea637ab8d8",
        "colab": {
          "base_uri": "https://localhost:8080/",
          "height": 334
        }
      },
      "source": [
        "#plot referente ao numero de pesssoas que possuem doenças no coração separado por idade.\n",
        "\n",
        "sns.countplot( x=\"idade\", hue='alvo', data=dataset)\n",
        "plt.rcParams['figure.figsize'] = [10, 5]\n",
        "plt.show()\n"
      ],
      "execution_count": 0,
      "outputs": [
        {
          "output_type": "display_data",
          "data": {
            "image/png": "[encoded data removed]",
            "text/plain": [
              "<Figure size 720x360 with 1 Axes>"
            ]
          },
          "metadata": {
            "tags": []
          }
        }
      ]
    },
    {
      "cell_type": "code",
      "metadata": {
        "id": "NnbiCTliC7SB",
        "colab_type": "code",
        "colab": {}
      },
      "source": [
        "x_train, x_test, y_train, y_test = train_test_split( x,y, \n",
        "    test_size=0.3,  #proporção separada para teste. nesse caso, 30% \n",
        "    random_state=42,  #Salvando o estado randomico. pode ser qualquer numero(semente do gerador), \n",
        "                      #nesse caso, foi usado o 42 como descrito no desafio\n",
        "    stratify=y) #amostragem stratificada. instrui a manter a mesma proporção de classes no conjunto de train e test(dataset desbalanceado)"
      ],
      "execution_count": 0,
      "outputs": []
    },
    {
      "cell_type": "code",
      "metadata": {
        "id": "t1BnsrwrXMiU",
        "colab_type": "code",
        "colab": {}
      },
      "source": [
        "# normalização de dados. foi utilizado para melhorar a eficiencia do modelo KNN e XGBoost\n",
        "sc = StandardScaler()\n",
        "sc.fit(x_train)\n",
        "x_train_std = sc.transform(x_train)\n",
        "\n",
        "x_test_std = sc.transform(x_test)"
      ],
      "execution_count": 0,
      "outputs": []
    },
    {
      "cell_type": "markdown",
      "metadata": {
        "id": "77ISlK8j5uj1",
        "colab_type": "text"
      },
      "source": [
        "# Treinamento utilizando arvore de decisão"
      ]
    },
    {
      "cell_type": "code",
      "metadata": {
        "id": "fGiVuRDtJKlS",
        "colab_type": "code",
        "outputId": "0753e1cb-f68f-440d-c1e1-02f9ec5bdde5",
        "colab": {
          "base_uri": "https://localhost:8080/",
          "height": 127
        }
      },
      "source": [
        "tree = DecisionTreeClassifier(criterion='gini', \n",
        "                              max_depth=3,\n",
        "                              random_state=1)\n",
        "tree.fit(x_train, y_train)"
      ],
      "execution_count": 0,
      "outputs": [
        {
          "output_type": "execute_result",
          "data": {
            "text/plain": [
              "DecisionTreeClassifier(ccp_alpha=0.0, class_weight=None, criterion='gini',\n",
              "                       max_depth=3, max_features=None, max_leaf_nodes=None,\n",
              "                       min_impurity_decrease=0.0, min_impurity_split=None,\n",
              "                       min_samples_leaf=1, min_samples_split=2,\n",
              "                       min_weight_fraction_leaf=0.0, presort='deprecated',\n",
              "                       random_state=1, splitter='best')"
            ]
          },
          "metadata": {
            "tags": []
          },
          "execution_count": 15
        }
      ]
    },
    {
      "cell_type": "code",
      "metadata": {
        "id": "kFWZybh4JXP0",
        "colab_type": "code",
        "outputId": "0d5e50ab-8599-4dd2-dc4b-04dc450d62ad",
        "colab": {
          "base_uri": "https://localhost:8080/",
          "height": 35
        }
      },
      "source": [
        "#predileção e verificação da acuracia obtida.\n",
        "y_pred = tree.predict(x_test)\n",
        "accuracy_score(y_test, y_pred)"
      ],
      "execution_count": 0,
      "outputs": [
        {
          "output_type": "execute_result",
          "data": {
            "text/plain": [
              "0.7472527472527473"
            ]
          },
          "metadata": {
            "tags": []
          },
          "execution_count": 16
        }
      ]
    },
    {
      "cell_type": "code",
      "metadata": {
        "id": "WRQORqjKOU3r",
        "colab_type": "code",
        "outputId": "52141ed8-2dfd-4d04-8e5f-bd3407d73e6f",
        "colab": {
          "base_uri": "https://localhost:8080/",
          "height": 182
        }
      },
      "source": [
        "#Analize mais profunda dos resultados da predileção\n",
        "target_names = ['class 0', 'class 1']\n",
        "print(classification_report(y_test , \n",
        "                            y_pred, \n",
        "                            target_names=target_names))"
      ],
      "execution_count": 0,
      "outputs": [
        {
          "output_type": "stream",
          "text": [
            "              precision    recall  f1-score   support\n",
            "\n",
            "     class 0       0.74      0.68      0.71        41\n",
            "     class 1       0.75      0.80      0.78        50\n",
            "\n",
            "    accuracy                           0.75        91\n",
            "   macro avg       0.75      0.74      0.74        91\n",
            "weighted avg       0.75      0.75      0.75        91\n",
            "\n"
          ],
          "name": "stdout"
        }
      ]
    },
    {
      "cell_type": "markdown",
      "metadata": {
        "id": "wtwfkPYW6Zdn",
        "colab_type": "text"
      },
      "source": [
        "# Treinamento utilizando o KNN"
      ]
    },
    {
      "cell_type": "code",
      "metadata": {
        "id": "8gAXhfi1LjCm",
        "colab_type": "code",
        "outputId": "5317e444-5537-413c-9d52-7e6a6733aa68",
        "colab": {
          "base_uri": "https://localhost:8080/",
          "height": 35
        }
      },
      "source": [
        "#treinamento e predileção do modelo. foi utilizado aqui os valores escalares utilizando standardScaler \n",
        "\n",
        "knn = KNeighborsClassifier()\n",
        "knn.fit(x_train_std,y_train)\n",
        "knn.predict\n",
        "knn.score(x_test_std,y_test)"
      ],
      "execution_count": 0,
      "outputs": [
        {
          "output_type": "execute_result",
          "data": {
            "text/plain": [
              "0.7912087912087912"
            ]
          },
          "metadata": {
            "tags": []
          },
          "execution_count": 47
        }
      ]
    },
    {
      "cell_type": "markdown",
      "metadata": {
        "id": "zDxt2FGV61Ne",
        "colab_type": "text"
      },
      "source": [
        "# Treinamento utilizando Regressão Logistica"
      ]
    },
    {
      "cell_type": "code",
      "metadata": {
        "id": "acSv8z3PO4GM",
        "colab_type": "code",
        "outputId": "8607b628-d061-4dc1-f169-a9e2d579ca94",
        "colab": {
          "base_uri": "https://localhost:8080/",
          "height": 35
        }
      },
      "source": [
        "#o numero maximo de iterações teve de ser aumentado\n",
        "\n",
        "clf = LogisticRegression(max_iter=800)\n",
        "clf.fit(x_train, y_train)\n",
        "y_pred = clf.predict(x_test)\n",
        "clf.score(x_test,y_test)\n"
      ],
      "execution_count": 0,
      "outputs": [
        {
          "output_type": "execute_result",
          "data": {
            "text/plain": [
              "0.7472527472527473"
            ]
          },
          "metadata": {
            "tags": []
          },
          "execution_count": 19
        }
      ]
    },
    {
      "cell_type": "markdown",
      "metadata": {
        "id": "60yx8vAp7MhU",
        "colab_type": "text"
      },
      "source": [
        "# Treinamento utilizando Random Forest"
      ]
    },
    {
      "cell_type": "code",
      "metadata": {
        "id": "aHpPiIIsmjB9",
        "colab_type": "code",
        "outputId": "875aad75-618c-4b63-f670-a06fe60f550f",
        "colab": {
          "base_uri": "https://localhost:8080/",
          "height": 129
        }
      },
      "source": [
        "#utilização do gridSearch para encontrar os melhores parametros\n",
        "rf = RandomForestClassifier()\n",
        "\n",
        "param_grid = {\n",
        "    'max_depth': [2,3,5],\n",
        "    'min_samples_leaf': [3,5,7],\n",
        "    'n_estimators': [10,50,100,200],\n",
        "    'oob_score': [True]\n",
        "}\n",
        "\n",
        "# Instanciação do modelo do GridSsearch\n",
        "grid_search = GridSearchCV(estimator = rf, param_grid = param_grid, \n",
        "                      cv = 3, n_jobs = -1, verbose = 2, return_train_score=True)\n",
        "\n",
        "# ajustando o gridSearch aos dados\n",
        "grid_search.fit(x_train, y_train);\n",
        "\n",
        "grid_search.best_params_\n",
        "best_grid = grid_search.best_estimator_\n",
        "print(best_grid.get_params())"
      ],
      "execution_count": 0,
      "outputs": [
        {
          "output_type": "stream",
          "text": [
            "Fitting 3 folds for each of 36 candidates, totalling 108 fits\n"
          ],
          "name": "stdout"
        },
        {
          "output_type": "stream",
          "text": [
            "[Parallel(n_jobs=-1)]: Using backend LokyBackend with 2 concurrent workers.\n",
            "[Parallel(n_jobs=-1)]: Done  70 tasks      | elapsed:   10.1s\n"
          ],
          "name": "stderr"
        },
        {
          "output_type": "stream",
          "text": [
            "{'bootstrap': True, 'ccp_alpha': 0.0, 'class_weight': None, 'criterion': 'gini', 'max_depth': 5, 'max_features': 'auto', 'max_leaf_nodes': None, 'max_samples': None, 'min_impurity_decrease': 0.0, 'min_impurity_split': None, 'min_samples_leaf': 5, 'min_samples_split': 2, 'min_weight_fraction_leaf': 0.0, 'n_estimators': 100, 'n_jobs': None, 'oob_score': True, 'random_state': None, 'verbose': 0, 'warm_start': False}\n"
          ],
          "name": "stdout"
        },
        {
          "output_type": "stream",
          "text": [
            "[Parallel(n_jobs=-1)]: Done 108 out of 108 | elapsed:   15.9s finished\n"
          ],
          "name": "stderr"
        }
      ]
    },
    {
      "cell_type": "code",
      "metadata": {
        "id": "WWdsc1eYjuK4",
        "colab_type": "code",
        "outputId": "cc803f39-0881-4e90-d71b-088b1c477e1e",
        "colab": {
          "base_uri": "https://localhost:8080/",
          "height": 35
        }
      },
      "source": [
        "#treinamento do modelo e predileção, com hiper-parametrização\n",
        "rf = RandomForestClassifier(**best_grid.get_params())\n",
        "rf.fit(x_train,y_train)\n",
        "y_pred = rf.predict(x_test)\n",
        "rf.score(x_test,y_test)"
      ],
      "execution_count": 0,
      "outputs": [
        {
          "output_type": "execute_result",
          "data": {
            "text/plain": [
              "0.7912087912087912"
            ]
          },
          "metadata": {
            "tags": []
          },
          "execution_count": 38
        }
      ]
    },
    {
      "cell_type": "markdown",
      "metadata": {
        "id": "5cZL75bRGW49",
        "colab_type": "text"
      },
      "source": [
        "# Treinamento utilizando Naive Bayes"
      ]
    },
    {
      "cell_type": "code",
      "metadata": {
        "id": "vYd7P8f_3zu9",
        "colab_type": "code",
        "outputId": "0d4b112c-4d7c-449f-decf-562030d65e7f",
        "colab": {
          "base_uri": "https://localhost:8080/",
          "height": 35
        }
      },
      "source": [
        "nb = GaussianNB()\n",
        "nb.fit(x_train, y_train)\n",
        "y_pred = nb.predict(x_test)\n",
        "nb.score(x_test,y_test)\n"
      ],
      "execution_count": 0,
      "outputs": [
        {
          "output_type": "execute_result",
          "data": {
            "text/plain": [
              "0.7912087912087912"
            ]
          },
          "metadata": {
            "tags": []
          },
          "execution_count": 22
        }
      ]
    },
    {
      "cell_type": "markdown",
      "metadata": {
        "id": "PC6hmUml9XJB",
        "colab_type": "text"
      },
      "source": [
        "# Treinamento utilizando XGBoost"
      ]
    },
    {
      "cell_type": "code",
      "metadata": {
        "id": "FjDP7bWbqSZU",
        "colab_type": "code",
        "outputId": "5a89f416-28a6-49be-d741-bd8744fad251",
        "colab": {
          "base_uri": "https://localhost:8080/",
          "height": 146
        }
      },
      "source": [
        "xg = xgb.XGBRegressor(colsample_bytree = 0.3, learning_rate = 0.1, objective='reg:squarederror' ,\n",
        "               max_depth = 5, n_estimators = 30)\n",
        "\n",
        "xg.fit(x_train_std,y_train)"
      ],
      "execution_count": 0,
      "outputs": [
        {
          "output_type": "execute_result",
          "data": {
            "text/plain": [
              "XGBRegressor(base_score=0.5, booster='gbtree', colsample_bylevel=1,\n",
              "             colsample_bynode=1, colsample_bytree=0.3, gamma=0,\n",
              "             importance_type='gain', learning_rate=0.1, max_delta_step=0,\n",
              "             max_depth=5, min_child_weight=1, missing=None, n_estimators=30,\n",
              "             n_jobs=1, nthread=None, objective='reg:squarederror',\n",
              "             random_state=0, reg_alpha=0, reg_lambda=1, scale_pos_weight=1,\n",
              "             seed=None, silent=None, subsample=1, verbosity=1)"
            ]
          },
          "metadata": {
            "tags": []
          },
          "execution_count": 54
        }
      ]
    },
    {
      "cell_type": "code",
      "metadata": {
        "id": "R9GeDWqbp5yc",
        "colab_type": "code",
        "outputId": "b514599c-07a9-4f3d-960b-145471e8cfd8",
        "colab": {
          "base_uri": "https://localhost:8080/",
          "height": 35
        }
      },
      "source": [
        "preds = xg.predict(x_test_std)\n",
        "\n",
        "predictions = [round(value) for value in preds]\n",
        "accuracy_score(y_test, predictions)"
      ],
      "execution_count": 0,
      "outputs": [
        {
          "output_type": "execute_result",
          "data": {
            "text/plain": [
              "0.8461538461538461"
            ]
          },
          "metadata": {
            "tags": []
          },
          "execution_count": 55
        }
      ]
    },
    {
      "cell_type": "code",
      "metadata": {
        "id": "8uviGT0JIuUw",
        "colab_type": "code",
        "outputId": "626b5fea-31bf-4a22-b95b-ad6d7f2b4af8",
        "colab": {
          "base_uri": "https://localhost:8080/",
          "height": 295
        }
      },
      "source": [
        "#geração de grafico de importancia dos features\n",
        "xgb.plot_importance(xg)\n",
        "plt.rcParams['figure.figsize'] = [7, 5]\n",
        "plt.show()"
      ],
      "execution_count": 0,
      "outputs": [
        {
          "output_type": "display_data",
          "data": {
            "image/png": "[encoded data removed]",
            "text/plain": [
              "<Figure size 432x288 with 1 Axes>"
            ]
          },
          "metadata": {
            "tags": []
          }
        }
      ]
    }
  ]
}