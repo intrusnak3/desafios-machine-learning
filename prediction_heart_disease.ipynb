{
  "nbformat": 4,
  "nbformat_minor": 0,
  "metadata": {
    "colab": {
      "name": "Untitled4.ipynb",
      "provenance": [],
      "collapsed_sections": [],
      "toc_visible": true,
      "authorship_tag": "ABX9TyMYzOQ8QfRcB54bUBTzKIK1",
      "include_colab_link": true
    },
    "kernelspec": {
      "name": "python3",
      "display_name": "Python 3"
    }
  },
  "cells": [
    {
      "cell_type": "markdown",
      "metadata": {
        "id": "view-in-github",
        "colab_type": "text"
      },
      "source": [
        "<a href=\"https://colab.research.google.com/github/intrusnak3/desafios-machine-learning/blob/master/prediction_heart_disease.ipynb\" target=\"_parent\"><img src=\"https://colab.research.google.com/assets/colab-badge.svg\" alt=\"Open In Colab\"/></a>"
      ]
    },
    {
      "cell_type": "code",
      "metadata": {
        "id": "x00GKPBJkyGx",
        "colab_type": "code",
        "colab": {}
      },
      "source": [
        "from sklearn import datasets\n",
        "import numpy as np\n",
        "import pandas as pd\n",
        "import seaborn as sns\n",
        "import xgboost as xgb\n",
        "from sklearn.model_selection import train_test_split\n",
        "from sklearn.preprocessing import StandardScaler\n",
        "from sklearn.tree import DecisionTreeClassifier\n",
        "from sklearn.metrics import accuracy_score\n",
        "from sklearn.neighbors import KNeighborsClassifier\n",
        "from sklearn.linear_model import LogisticRegression\n",
        "from sklearn.model_selection import GridSearchCV\n",
        "from sklearn.ensemble import RandomForestClassifier\n",
        "from sklearn.naive_bayes import GaussianNB\n",
        "\n",
        "\n",
        "\n"
      ],
      "execution_count": 0,
      "outputs": []
    },
    {
      "cell_type": "code",
      "metadata": {
        "id": "xIo8mziUk04z",
        "colab_type": "code",
        "colab": {}
      },
      "source": [
        "dataset = pd.read_csv('Mission_Prediction_Dataset.csv')"
      ],
      "execution_count": 0,
      "outputs": []
    },
    {
      "cell_type": "code",
      "metadata": {
        "id": "5RDdtZO8mXTp",
        "colab_type": "code",
        "outputId": "4fd61916-148f-4155-90e6-d2cbb3483912",
        "colab": {
          "base_uri": "https://localhost:8080/",
          "height": 340
        }
      },
      "source": [
        "dataset.info()"
      ],
      "execution_count": 363,
      "outputs": [
        {
          "output_type": "stream",
          "text": [
            "<class 'pandas.core.frame.DataFrame'>\n",
            "RangeIndex: 303 entries, 0 to 302\n",
            "Data columns (total 14 columns):\n",
            "idade           303 non-null int64\n",
            "sexo            303 non-null int64\n",
            "dor-peitoral    303 non-null int64\n",
            "psr             303 non-null int64\n",
            "col             303 non-null int64\n",
            "glicose         303 non-null int64\n",
            "ecg             303 non-null int64\n",
            "fcmax           303 non-null int64\n",
            "angex           303 non-null int64\n",
            "oldpeak         303 non-null float64\n",
            "inclinacao      303 non-null int64\n",
            "ca              303 non-null int64\n",
            "thal            303 non-null int64\n",
            "alvo            303 non-null int64\n",
            "dtypes: float64(1), int64(13)\n",
            "memory usage: 33.3 KB\n"
          ],
          "name": "stdout"
        }
      ]
    },
    {
      "cell_type": "code",
      "metadata": {
        "id": "06xDG6oEnO-C",
        "colab_type": "code",
        "outputId": "5fb7f50c-7359-40ea-e2fe-1ac86363276c",
        "colab": {
          "base_uri": "https://localhost:8080/",
          "height": 34
        }
      },
      "source": [
        "dataset.shape"
      ],
      "execution_count": 293,
      "outputs": [
        {
          "output_type": "execute_result",
          "data": {
            "text/plain": [
              "(303, 14)"
            ]
          },
          "metadata": {
            "tags": []
          },
          "execution_count": 293
        }
      ]
    },
    {
      "cell_type": "code",
      "metadata": {
        "id": "XtaOIDuWnq6f",
        "colab_type": "code",
        "colab": {
          "base_uri": "https://localhost:8080/",
          "height": 34
        },
        "outputId": "a3604997-4046-469c-dd21-96de5d52f2ea"
      },
      "source": [
        "dataset.isnull().values.any()"
      ],
      "execution_count": 294,
      "outputs": [
        {
          "output_type": "execute_result",
          "data": {
            "text/plain": [
              "False"
            ]
          },
          "metadata": {
            "tags": []
          },
          "execution_count": 294
        }
      ]
    },
    {
      "cell_type": "code",
      "metadata": {
        "id": "Zgo5v_t990zd",
        "colab_type": "code",
        "colab": {}
      },
      "source": [
        "dataset.rename(columns={ dataset.columns[0]: \"idade\", dataset.columns[1]: \"sexo\" , dataset.columns[2]: \"dor-peitoral\", \n",
        "                        dataset.columns[3]: \"psr\", dataset.columns[4]: \"col\" , dataset.columns[5]: \"glicose\",\n",
        "                        dataset.columns[6]: \"ecg\", dataset.columns[7]: \"fcmax\" , dataset.columns[8]: \"angex\",\n",
        "                        dataset.columns[9]: \"oldpeak\", dataset.columns[10]: \"inclinacao\" , dataset.columns[11]: \"ca\", \n",
        "                        dataset.columns[12]: \"thal\", dataset.columns[13]: \"alvo\"}, inplace=True)"
      ],
      "execution_count": 0,
      "outputs": []
    },
    {
      "cell_type": "code",
      "metadata": {
        "id": "HM6kLfbVoXcx",
        "colab_type": "code",
        "outputId": "5149cba1-3398-4e40-d59a-b4c6c3f2909d",
        "colab": {
          "base_uri": "https://localhost:8080/",
          "height": 68
        }
      },
      "source": [
        "dataset.alvo.value_counts()"
      ],
      "execution_count": 296,
      "outputs": [
        {
          "output_type": "execute_result",
          "data": {
            "text/plain": [
              "1    165\n",
              "0    138\n",
              "Name: alvo, dtype: int64"
            ]
          },
          "metadata": {
            "tags": []
          },
          "execution_count": 296
        }
      ]
    },
    {
      "cell_type": "code",
      "metadata": {
        "id": "bkmqBXhzpjgZ",
        "colab_type": "code",
        "colab": {}
      },
      "source": [
        "x = dataset[['idade','sexo','dor-peitoral','psr','col','glicose','ecg','fcmax','angex','oldpeak','inclinacao','ca','thal',]]\n",
        "y = dataset.alvo"
      ],
      "execution_count": 0,
      "outputs": []
    },
    {
      "cell_type": "code",
      "metadata": {
        "id": "epldWPHAsCNI",
        "colab_type": "code",
        "outputId": "b977e139-0c7c-494f-8119-1e2dbddf50ed",
        "colab": {
          "base_uri": "https://localhost:8080/",
          "height": 204
        }
      },
      "source": [
        "x.head()"
      ],
      "execution_count": 298,
      "outputs": [
        {
          "output_type": "execute_result",
          "data": {
            "text/html": [
              "<div>\n",
              "<style scoped>\n",
              "    .dataframe tbody tr th:only-of-type {\n",
              "        vertical-align: middle;\n",
              "    }\n",
              "\n",
              "    .dataframe tbody tr th {\n",
              "        vertical-align: top;\n",
              "    }\n",
              "\n",
              "    .dataframe thead th {\n",
              "        text-align: right;\n",
              "    }\n",
              "</style>\n",
              "<table border=\"1\" class=\"dataframe\">\n",
              "  <thead>\n",
              "    <tr style=\"text-align: right;\">\n",
              "      <th></th>\n",
              "      <th>idade</th>\n",
              "      <th>sexo</th>\n",
              "      <th>dor-peitoral</th>\n",
              "      <th>psr</th>\n",
              "      <th>col</th>\n",
              "      <th>glicose</th>\n",
              "      <th>ecg</th>\n",
              "      <th>fcmax</th>\n",
              "      <th>angex</th>\n",
              "      <th>oldpeak</th>\n",
              "      <th>inclinacao</th>\n",
              "      <th>ca</th>\n",
              "      <th>thal</th>\n",
              "    </tr>\n",
              "  </thead>\n",
              "  <tbody>\n",
              "    <tr>\n",
              "      <th>0</th>\n",
              "      <td>63</td>\n",
              "      <td>1</td>\n",
              "      <td>3</td>\n",
              "      <td>145</td>\n",
              "      <td>233</td>\n",
              "      <td>1</td>\n",
              "      <td>0</td>\n",
              "      <td>150</td>\n",
              "      <td>0</td>\n",
              "      <td>2.3</td>\n",
              "      <td>0</td>\n",
              "      <td>0</td>\n",
              "      <td>1</td>\n",
              "    </tr>\n",
              "    <tr>\n",
              "      <th>1</th>\n",
              "      <td>37</td>\n",
              "      <td>1</td>\n",
              "      <td>2</td>\n",
              "      <td>130</td>\n",
              "      <td>250</td>\n",
              "      <td>0</td>\n",
              "      <td>1</td>\n",
              "      <td>187</td>\n",
              "      <td>0</td>\n",
              "      <td>3.5</td>\n",
              "      <td>0</td>\n",
              "      <td>0</td>\n",
              "      <td>2</td>\n",
              "    </tr>\n",
              "    <tr>\n",
              "      <th>2</th>\n",
              "      <td>41</td>\n",
              "      <td>0</td>\n",
              "      <td>1</td>\n",
              "      <td>130</td>\n",
              "      <td>204</td>\n",
              "      <td>0</td>\n",
              "      <td>0</td>\n",
              "      <td>172</td>\n",
              "      <td>0</td>\n",
              "      <td>1.4</td>\n",
              "      <td>2</td>\n",
              "      <td>0</td>\n",
              "      <td>2</td>\n",
              "    </tr>\n",
              "    <tr>\n",
              "      <th>3</th>\n",
              "      <td>56</td>\n",
              "      <td>1</td>\n",
              "      <td>1</td>\n",
              "      <td>120</td>\n",
              "      <td>236</td>\n",
              "      <td>0</td>\n",
              "      <td>1</td>\n",
              "      <td>178</td>\n",
              "      <td>0</td>\n",
              "      <td>0.8</td>\n",
              "      <td>2</td>\n",
              "      <td>0</td>\n",
              "      <td>2</td>\n",
              "    </tr>\n",
              "    <tr>\n",
              "      <th>4</th>\n",
              "      <td>57</td>\n",
              "      <td>0</td>\n",
              "      <td>0</td>\n",
              "      <td>120</td>\n",
              "      <td>354</td>\n",
              "      <td>0</td>\n",
              "      <td>1</td>\n",
              "      <td>163</td>\n",
              "      <td>1</td>\n",
              "      <td>0.6</td>\n",
              "      <td>2</td>\n",
              "      <td>0</td>\n",
              "      <td>2</td>\n",
              "    </tr>\n",
              "  </tbody>\n",
              "</table>\n",
              "</div>"
            ],
            "text/plain": [
              "   idade  sexo  dor-peitoral  psr  col  ...  angex  oldpeak  inclinacao  ca  thal\n",
              "0     63     1             3  145  233  ...      0      2.3           0   0     1\n",
              "1     37     1             2  130  250  ...      0      3.5           0   0     2\n",
              "2     41     0             1  130  204  ...      0      1.4           2   0     2\n",
              "3     56     1             1  120  236  ...      0      0.8           2   0     2\n",
              "4     57     0             0  120  354  ...      1      0.6           2   0     2\n",
              "\n",
              "[5 rows x 13 columns]"
            ]
          },
          "metadata": {
            "tags": []
          },
          "execution_count": 298
        }
      ]
    },
    {
      "cell_type": "code",
      "metadata": {
        "id": "tefOgeQsdvFw",
        "colab_type": "code",
        "colab": {
          "base_uri": "https://localhost:8080/",
          "height": 296
        },
        "outputId": "c94bb1f8-6eab-4be2-e3b1-1a2fe31ff476"
      },
      "source": [
        "sns.countplot( x=\"idade\", hue='alvo', data=dataset)\n"
      ],
      "execution_count": 362,
      "outputs": [
        {
          "output_type": "execute_result",
          "data": {
            "text/plain": [
              "<matplotlib.axes._subplots.AxesSubplot at 0x7f2f9bf56eb8>"
            ]
          },
          "metadata": {
            "tags": []
          },
          "execution_count": 362
        },
        {
          "output_type": "display_data",
          "data": {
            "image/png": "[encoded data removed]",
            "text/plain": [
              "<Figure size 432x288 with 1 Axes>"
            ]
          },
          "metadata": {
            "tags": []
          }
        }
      ]
    },
    {
      "cell_type": "code",
      "metadata": {
        "id": "NnbiCTliC7SB",
        "colab_type": "code",
        "colab": {}
      },
      "source": [
        "x_train, x_test, y_train, y_test = train_test_split(\n",
        "    x, #Matriz de dados x e y divididos inicialemnte (X é features,Y é target)\n",
        "    y, \n",
        "    test_size=0.3,  #proporção separada para teste (entre 0 e 1). nesse caso, 30% \n",
        "    random_state=42,  #Salvando o estado randomico. pode ser qualquer numero(semente do gerador)\n",
        "    stratify=y) #amostragem stratificada. instrui a manter a mesma proporção de classes no conjunto de train e test(dataset desbalanceado)"
      ],
      "execution_count": 0,
      "outputs": []
    },
    {
      "cell_type": "code",
      "metadata": {
        "id": "t1BnsrwrXMiU",
        "colab_type": "code",
        "colab": {}
      },
      "source": [
        "sc = StandardScaler()\n",
        "sc.fit(x_train)\n",
        "x_train_std = sc.transform(x_train)\n",
        "\n",
        "x_test_std = sc.transform(x_test)"
      ],
      "execution_count": 0,
      "outputs": []
    },
    {
      "cell_type": "code",
      "metadata": {
        "id": "XyMHjFB8Dd42",
        "colab_type": "code",
        "colab": {
          "base_uri": "https://localhost:8080/",
          "height": 238
        },
        "outputId": "c0051337-6f88-4a95-9673-06aefb6eca1c"
      },
      "source": [
        "print(x_test_std)"
      ],
      "execution_count": 302,
      "outputs": [
        {
          "output_type": "stream",
          "text": [
            "[[-0.03412204 -1.48732014  1.02188952 ...  0.92647837 -0.70551548\n",
            "  -0.56818372]\n",
            " [-1.56857985  0.6723502  -0.9386587  ...  0.92647837 -0.70551548\n",
            "   1.08188407]\n",
            " [ 0.51389861  0.6723502  -0.9386587  ... -0.68346765  0.25944763\n",
            "   1.08188407]\n",
            " ...\n",
            " [-1.34937159 -1.48732014  1.02188952 ... -0.68346765 -0.70551548\n",
            "  -0.56818372]\n",
            " [-0.47253856  0.6723502  -0.9386587  ... -0.68346765 -0.70551548\n",
            "   1.08188407]\n",
            " [-2.11660049  0.6723502  -0.9386587  ...  0.92647837 -0.70551548\n",
            "   1.08188407]]\n"
          ],
          "name": "stdout"
        }
      ]
    },
    {
      "cell_type": "code",
      "metadata": {
        "id": "fGiVuRDtJKlS",
        "colab_type": "code",
        "colab": {
          "base_uri": "https://localhost:8080/",
          "height": 119
        },
        "outputId": "3d2c22bd-277b-4981-e2f3-64843227c186"
      },
      "source": [
        "tree = DecisionTreeClassifier(criterion='gini', \n",
        "                              max_depth=3,\n",
        "                              random_state=1)\n",
        "tree.fit(x_train, y_train)"
      ],
      "execution_count": 303,
      "outputs": [
        {
          "output_type": "execute_result",
          "data": {
            "text/plain": [
              "DecisionTreeClassifier(ccp_alpha=0.0, class_weight=None, criterion='gini',\n",
              "                       max_depth=3, max_features=None, max_leaf_nodes=None,\n",
              "                       min_impurity_decrease=0.0, min_impurity_split=None,\n",
              "                       min_samples_leaf=1, min_samples_split=2,\n",
              "                       min_weight_fraction_leaf=0.0, presort='deprecated',\n",
              "                       random_state=1, splitter='best')"
            ]
          },
          "metadata": {
            "tags": []
          },
          "execution_count": 303
        }
      ]
    },
    {
      "cell_type": "code",
      "metadata": {
        "id": "kFWZybh4JXP0",
        "colab_type": "code",
        "colab": {
          "base_uri": "https://localhost:8080/",
          "height": 34
        },
        "outputId": "39ad5ff1-adcc-4278-9bf4-e3a9a7bb008b"
      },
      "source": [
        "y_pred = tree.predict(x_test)\n",
        "accuracy_score(y_test, y_pred)"
      ],
      "execution_count": 319,
      "outputs": [
        {
          "output_type": "execute_result",
          "data": {
            "text/plain": [
              "0.7472527472527473"
            ]
          },
          "metadata": {
            "tags": []
          },
          "execution_count": 319
        }
      ]
    },
    {
      "cell_type": "code",
      "metadata": {
        "id": "WRQORqjKOU3r",
        "colab_type": "code",
        "colab": {
          "base_uri": "https://localhost:8080/",
          "height": 170
        },
        "outputId": "610e01ea-eb5a-43c4-f8c0-9c77c4887621"
      },
      "source": [
        "target_names = ['class 0', 'class 1']\n",
        "print(classification_report(y_test , \n",
        "                            y_pred, \n",
        "                            target_names=target_names))"
      ],
      "execution_count": 320,
      "outputs": [
        {
          "output_type": "stream",
          "text": [
            "              precision    recall  f1-score   support\n",
            "\n",
            "     class 0       0.74      0.68      0.71        41\n",
            "     class 1       0.75      0.80      0.78        50\n",
            "\n",
            "    accuracy                           0.75        91\n",
            "   macro avg       0.75      0.74      0.74        91\n",
            "weighted avg       0.75      0.75      0.75        91\n",
            "\n"
          ],
          "name": "stdout"
        }
      ]
    },
    {
      "cell_type": "code",
      "metadata": {
        "id": "8gAXhfi1LjCm",
        "colab_type": "code",
        "colab": {
          "base_uri": "https://localhost:8080/",
          "height": 34
        },
        "outputId": "3117eba1-4720-4bf7-8a8b-06d534c05aa5"
      },
      "source": [
        "knn = KNeighborsClassifier(n_neighbors=5)\n",
        "knn.fit(x_train_std,y_train)\n",
        "knn.predict\n",
        "knn.score(x_test_std,y_test)"
      ],
      "execution_count": 329,
      "outputs": [
        {
          "output_type": "execute_result",
          "data": {
            "text/plain": [
              "0.7912087912087912"
            ]
          },
          "metadata": {
            "tags": []
          },
          "execution_count": 329
        }
      ]
    },
    {
      "cell_type": "code",
      "metadata": {
        "id": "acSv8z3PO4GM",
        "colab_type": "code",
        "colab": {
          "base_uri": "https://localhost:8080/",
          "height": 34
        },
        "outputId": "27b43c08-8b06-42d8-c097-38010b7d1235"
      },
      "source": [
        "clf = LogisticRegression(max_iter=800)\n",
        "clf.fit(x_train, y_train)\n",
        "y_pred = clf.predict(x_test)\n",
        "clf.score(x_test,y_test)\n"
      ],
      "execution_count": 310,
      "outputs": [
        {
          "output_type": "execute_result",
          "data": {
            "text/plain": [
              "0.7472527472527473"
            ]
          },
          "metadata": {
            "tags": []
          },
          "execution_count": 310
        }
      ]
    },
    {
      "cell_type": "code",
      "metadata": {
        "id": "aHpPiIIsmjB9",
        "colab_type": "code",
        "colab": {}
      },
      "source": [
        "\n",
        "rf = RandomForestClassifier()\n",
        "\n",
        "param_grid = {\n",
        "    'max_depth': [2],\n",
        "    'min_samples_leaf': [5],\n",
        "    'n_estimators': [200],\n",
        "    'oob_score': [True],\n",
        "    'random_state': [0],\n",
        "}\n",
        "\n",
        "# Instantiate the grid search model\n",
        "grid_search = GridSearchCV(estimator = rf, param_grid = param_grid, \n",
        "                      cv = 3, n_jobs = -1, verbose = 2, return_train_score=True)\n",
        "\n",
        "# Fit the grid search to the data\n",
        "grid_search.fit(x_train, y_train);\n",
        "\n",
        "grid_search.best_params_\n",
        "best_grid = grid_search.best_estimator_\n",
        "print(best_grid.get_params())"
      ],
      "execution_count": 0,
      "outputs": []
    },
    {
      "cell_type": "code",
      "metadata": {
        "id": "WWdsc1eYjuK4",
        "colab_type": "code",
        "colab": {
          "base_uri": "https://localhost:8080/",
          "height": 34
        },
        "outputId": "7053edd4-bf35-4d6c-9c17-347243118284"
      },
      "source": [
        "rf = RandomForestClassifier(**best_grid.get_params())\n",
        "rf.fit(x_train,y_train)\n",
        "y_pred = rf.predict(x_test)\n",
        "rf.score(x_test,y_test)"
      ],
      "execution_count": 368,
      "outputs": [
        {
          "output_type": "execute_result",
          "data": {
            "text/plain": [
              "0.7802197802197802"
            ]
          },
          "metadata": {
            "tags": []
          },
          "execution_count": 368
        }
      ]
    },
    {
      "cell_type": "code",
      "metadata": {
        "id": "Ym5HB8IYppHc",
        "colab_type": "code",
        "colab": {}
      },
      "source": [
        "data_dmatrix = xgb.DMatrix(data=x,label=y)"
      ],
      "execution_count": 0,
      "outputs": []
    },
    {
      "cell_type": "code",
      "metadata": {
        "id": "FjDP7bWbqSZU",
        "colab_type": "code",
        "colab": {
          "base_uri": "https://localhost:8080/",
          "height": 187
        },
        "outputId": "9120fd4f-d76f-4249-ea1e-b5dff065c6f2"
      },
      "source": [
        "xg = xgb.XGBRegressor(colsample_bytree = 0.3, learning_rate = 0.1,\n",
        "                max_depth = 5, alpha = 10, n_estimators = 10)\n",
        "\n",
        "xg.fit(x_train,y_train)"
      ],
      "execution_count": 371,
      "outputs": [
        {
          "output_type": "stream",
          "text": [
            "[02:11:43] WARNING: /workspace/src/objective/regression_obj.cu:152: reg:linear is now deprecated in favor of reg:squarederror.\n"
          ],
          "name": "stdout"
        },
        {
          "output_type": "stream",
          "text": [
            "/usr/local/lib/python3.6/dist-packages/xgboost/core.py:587: FutureWarning: Series.base is deprecated and will be removed in a future version\n",
            "  if getattr(data, 'base', None) is not None and \\\n"
          ],
          "name": "stderr"
        },
        {
          "output_type": "execute_result",
          "data": {
            "text/plain": [
              "XGBRegressor(alpha=10, base_score=0.5, booster='gbtree', colsample_bylevel=1,\n",
              "             colsample_bynode=1, colsample_bytree=0.3, gamma=0,\n",
              "             importance_type='gain', learning_rate=0.1, max_delta_step=0,\n",
              "             max_depth=5, min_child_weight=1, missing=None, n_estimators=10,\n",
              "             n_jobs=1, nthread=None, objective='reg:linear', random_state=0,\n",
              "             reg_alpha=0, reg_lambda=1, scale_pos_weight=1, seed=None,\n",
              "             silent=None, subsample=1, verbosity=1)"
            ]
          },
          "metadata": {
            "tags": []
          },
          "execution_count": 371
        }
      ]
    },
    {
      "cell_type": "code",
      "metadata": {
        "id": "R9GeDWqbp5yc",
        "colab_type": "code",
        "colab": {
          "base_uri": "https://localhost:8080/",
          "height": 340
        },
        "outputId": "cad7f83f-d97c-48f9-a210-ea5b2b35c0e8"
      },
      "source": [
        "preds = xg_reg.predict(x_test)\n",
        "\n",
        "predictions = [round(value) for value in preds]\n",
        "accuracy_score(y_test, predictions)\n",
        "preds"
      ],
      "execution_count": 374,
      "outputs": [
        {
          "output_type": "execute_result",
          "data": {
            "text/plain": [
              "array([0.7328347 , 0.62118345, 0.26303813, 0.6529938 , 0.3326494 ,\n",
              "       0.29999197, 0.66873634, 0.7687439 , 0.5936495 , 0.5466856 ,\n",
              "       0.28840148, 0.6263801 , 0.59979546, 0.35948095, 0.73054093,\n",
              "       0.4607691 , 0.60887206, 0.5888711 , 0.735015  , 0.6063691 ,\n",
              "       0.58192754, 0.69612837, 0.79242456, 0.8311375 , 0.7006382 ,\n",
              "       0.7485863 , 0.2872719 , 0.22493461, 0.67348945, 0.22173053,\n",
              "       0.33514336, 0.60764885, 0.60451823, 0.4387782 , 0.3136282 ,\n",
              "       0.4199851 , 0.6727743 , 0.27289695, 0.75554717, 0.7037482 ,\n",
              "       0.7810227 , 0.63101524, 0.22800547, 0.6342063 , 0.36824846,\n",
              "       0.46311286, 0.54611355, 0.26421344, 0.32249555, 0.4739634 ,\n",
              "       0.6201323 , 0.3047854 , 0.56686765, 0.6284297 , 0.6436766 ,\n",
              "       0.69403934, 0.4668269 , 0.70851636, 0.39175254, 0.65602714,\n",
              "       0.37489069, 0.30548865, 0.7418329 , 0.39215985, 0.46798682,\n",
              "       0.6199344 , 0.73164177, 0.26133034, 0.48659223, 0.5725915 ,\n",
              "       0.39938977, 0.5774638 , 0.55891204, 0.5422353 , 0.71041137,\n",
              "       0.24048704, 0.46002436, 0.3993362 , 0.3574372 , 0.30392537,\n",
              "       0.53499115, 0.30923104, 0.8311375 , 0.4589022 , 0.53185475,\n",
              "       0.26043212, 0.67419666, 0.7915987 , 0.755288  , 0.32615313,\n",
              "       0.40393448], dtype=float32)"
            ]
          },
          "metadata": {
            "tags": []
          },
          "execution_count": 374
        }
      ]
    },
    {
      "cell_type": "code",
      "metadata": {
        "id": "vYd7P8f_3zu9",
        "colab_type": "code",
        "colab": {
          "base_uri": "https://localhost:8080/",
          "height": 34
        },
        "outputId": "a0a0b8b8-8651-40b8-e8ef-1e8d6199b2f1"
      },
      "source": [
        "nb = GaussianNB()\n",
        "nb.fit(x_train, y_train)\n",
        "y_pred = nb.predict(x_test)\n",
        "nb.score(x_test,y_test)\n"
      ],
      "execution_count": 370,
      "outputs": [
        {
          "output_type": "execute_result",
          "data": {
            "text/plain": [
              "0.7912087912087912"
            ]
          },
          "metadata": {
            "tags": []
          },
          "execution_count": 370
        }
      ]
    }
  ]
}